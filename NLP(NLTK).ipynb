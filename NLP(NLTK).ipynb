{
 "cells": [
  {
   "cell_type": "code",
   "execution_count": 2,
   "id": "a290fd5c",
   "metadata": {},
   "outputs": [
    {
     "name": "stderr",
     "output_type": "stream",
     "text": [
      "[nltk_data] Downloading package punkt to C:\\Users\\Nischay\n",
      "[nltk_data]     kapoor\\AppData\\Roaming\\nltk_data...\n",
      "[nltk_data]   Package punkt is already up-to-date!\n",
      "[nltk_data] Downloading package stopwords to C:\\Users\\Nischay\n",
      "[nltk_data]     kapoor\\AppData\\Roaming\\nltk_data...\n",
      "[nltk_data]   Package stopwords is already up-to-date!\n",
      "[nltk_data] Downloading package wordnet to C:\\Users\\Nischay\n",
      "[nltk_data]     kapoor\\AppData\\Roaming\\nltk_data...\n",
      "[nltk_data]   Package wordnet is already up-to-date!\n",
      "[nltk_data] Downloading package averaged_perceptron_tagger to\n",
      "[nltk_data]     C:\\Users\\Nischay kapoor\\AppData\\Roaming\\nltk_data...\n",
      "[nltk_data]   Package averaged_perceptron_tagger is already up-to-\n",
      "[nltk_data]       date!\n"
     ]
    }
   ],
   "source": [
    "import nltk\n",
    "from nltk.tokenize import word_tokenize, sent_tokenize, RegexpTokenizer\n",
    "from nltk.corpus import stopwords\n",
    "from nltk.stem import PorterStemmer, LancasterStemmer, WordNetLemmatizer\n",
    "import string\n",
    "\n",
    "# Download required resources\n",
    "nltk.download('punkt')\n",
    "nltk.download('stopwords')\n",
    "nltk.download('wordnet')\n",
    "nltk.download('averaged_perceptron_tagger')\n",
    "\n",
    "# Initialize objects\n",
    "stop_words = set(stopwords.words(\"english\"))\n",
    "porter = PorterStemmer()\n",
    "lancaster = LancasterStemmer()\n",
    "lemmatizer = WordNetLemmatizer()\n",
    "regex_tokenizer = RegexpTokenizer(r'\\w+')\n"
   ]
  },
  {
   "cell_type": "code",
   "execution_count": 3,
   "id": "085c7796",
   "metadata": {},
   "outputs": [
    {
     "name": "stdout",
     "output_type": "stream",
     "text": [
      "Task 1: ['Natural', 'Language', 'Processing', 'with', 'Python', 'is', 'fun', '.']\n"
     ]
    }
   ],
   "source": [
    "# Task 1: Tokenize a simple sentence\n",
    "sentence1 = \"Natural Language Processing with Python is fun.\"\n",
    "tokens1=word_tokenize(sentence1)\n",
    "print(\"Task 1:\", tokens1)"
   ]
  },
  {
   "cell_type": "code",
   "execution_count": 4,
   "id": "b585094f",
   "metadata": {},
   "outputs": [
    {
     "name": "stdout",
     "output_type": "stream",
     "text": [
      "Task 2: ['Hello', 'there', 'How', 'the', 'weather', 'today']\n"
     ]
    }
   ],
   "source": [
    "# Task 2: Remove punctuation from a sentence\n",
    "sentence2 = \"Hello there! How's the weather today?\"\n",
    "tokens2 = word_tokenize(sentence2)\n",
    "no_punct2 = [word for word in tokens2 if word.isalnum()]\n",
    "print(\"Task 2:\", no_punct2)"
   ]
  },
  {
   "cell_type": "code",
   "execution_count": 5,
   "id": "4295e29c",
   "metadata": {},
   "outputs": [
    {
     "name": "stdout",
     "output_type": "stream",
     "text": [
      "Task 3: ['simple', 'sentence', 'stopword', 'removal', '.']\n"
     ]
    }
   ],
   "source": [
    "# Task 3: Remove stopwords from a sentence\n",
    "sentence3 = \"This is a simple sentence for stopword removal.\"\n",
    "tokens3 = word_tokenize(sentence3)\n",
    "filtered3 = [word for word in tokens3 if word.lower() not in stop_words]\n",
    "print(\"Task 3:\", filtered3)\n"
   ]
  },
  {
   "cell_type": "code",
   "execution_count": 6,
   "id": "378244a4",
   "metadata": {},
   "outputs": [
    {
     "name": "stdout",
     "output_type": "stream",
     "text": [
      "Task 4: ['the', 'stripe', 'bat', 'are', 'hang', 'on', 'their', 'feet', 'for', 'best', '.']\n"
     ]
    }
   ],
   "source": [
    "# Task 4: Perform stemming using PorterStemmer\n",
    "sentence4 = \"The striped bats are hanging on their feet for best.\"\n",
    "tokens4 = word_tokenize(sentence4)\n",
    "stemmed4 = [porter.stem(word) for word in tokens4]\n",
    "print(\"Task 4:\", stemmed4)"
   ]
  },
  {
   "cell_type": "code",
   "execution_count": 7,
   "id": "bad438a9",
   "metadata": {},
   "outputs": [
    {
     "name": "stdout",
     "output_type": "stream",
     "text": [
      "Task 5: ['The', 'goose', 'are', 'flying', 'south', 'for', 'the', 'winter', '.']\n"
     ]
    }
   ],
   "source": [
    "# Task 5: Perform lemmatization using WordNetLemmatizer\n",
    "lemmatizer = WordNetLemmatizer()\n",
    "sentence5 = \"The geese are flying south for the winter.\"\n",
    "tokens5 = word_tokenize(sentence5)\n",
    "lemmatized5 = [lemmatizer.lemmatize(word) for word in tokens5]\n",
    "print(\"Task 5:\", lemmatized5)"
   ]
  },
  {
   "cell_type": "code",
   "execution_count": 8,
   "id": "b211c4c0",
   "metadata": {},
   "outputs": [
    {
     "name": "stdout",
     "output_type": "stream",
     "text": [
      "Task 6: hello world nlp with python\n"
     ]
    }
   ],
   "source": [
    "# Task 6: Convert text to lowercase and remove punctuation\n",
    "sentence6 = \"Hello, World! NLP with Python.\"\n",
    "lower6 = sentence6.lower()\n",
    "no_punct6 = ''.join([char for char in lower6 if char not in string.punctuation])\n",
    "print(\"Task 6:\", no_punct6)"
   ]
  },
  {
   "cell_type": "code",
   "execution_count": 9,
   "id": "29f941d1",
   "metadata": {},
   "outputs": [
    {
     "name": "stdout",
     "output_type": "stream",
     "text": [
      "Task 7: ['Hello World.', 'This is NLTK.', \"Let's explore NLP!\"]\n"
     ]
    }
   ],
   "source": [
    "# Task 7: Tokenize a sentence into sentences\n",
    "sentence7 = \"Hello World. This is NLTK. Let's explore NLP!\"\n",
    "sentences7 = sent_tokenize(sentence7)\n",
    "print(\"Task 7:\", sentences7)\n"
   ]
  },
  {
   "cell_type": "code",
   "execution_count": 10,
   "id": "10a0212f",
   "metadata": {},
   "outputs": [
    {
     "name": "stdout",
     "output_type": "stream",
     "text": [
      "Task 8: ['lov', 'the', 'expery', 'of', 'learn', 'nltk']\n"
     ]
    }
   ],
   "source": [
    "\n",
    "# Task 8: Stem words in a sentence using LancasterStemmer\n",
    "sentence8 = \"Loving the experience of learning NLTK\"\n",
    "tokens8 = word_tokenize(sentence8)\n",
    "stemmed8 = [lancaster.stem(word) for word in tokens8]\n",
    "print(\"Task 8:\", stemmed8)\n",
    "\n"
   ]
  },
  {
   "cell_type": "code",
   "execution_count": 11,
   "id": "e675676f",
   "metadata": {},
   "outputs": [
    {
     "name": "stdout",
     "output_type": "stream",
     "text": [
      "Task 9: ['test', 'sentence', 'stopwords', 'punctuation']\n"
     ]
    }
   ],
   "source": [
    "\n",
    "# Task 9: Remove both stopwords and punctuation from a sentence\n",
    "sentence9 = \"This is a test sentence, with stopwords and punctuation!\"\n",
    "tokens9 = word_tokenize(sentence9)\n",
    "filtered9 = [word for word in tokens9 if word.lower() not in stop_words and word.isalnum()]\n",
    "print(\"Task 9:\", filtered9)"
   ]
  },
  {
   "cell_type": "code",
   "execution_count": 18,
   "id": "eb22d65e",
   "metadata": {},
   "outputs": [
    {
     "name": "stdout",
     "output_type": "stream",
     "text": [
      "[('The', 'DT'), ('striped', 'JJ'), ('bat', 'NN'), ('are', 'VBP'), ('hanging', 'VBG'), ('on', 'IN'), ('their', 'PRP$'), ('foot', 'NN'), ('.', '.')]\n"
     ]
    }
   ],
   "source": [
    "# Task 10: Lemmatize words with their part-of-speech (POS) tag\n",
    "var = \"The striped bats are hanging on their feet.\"\n",
    "tokenize_var = word_tokenize(var)\n",
    "wl = WordNetLemmatizer()\n",
    "a = [wl.lemmatize(i) for i in tokenize_var]\n",
    "p = pos_tag(a)\n",
    "print(p)"
   ]
  },
  {
   "cell_type": "code",
   "execution_count": 13,
   "id": "b94a023d",
   "metadata": {},
   "outputs": [
    {
     "name": "stdout",
     "output_type": "stream",
     "text": [
      "Task 11: ['run', 'forest', 'fox', 'faster']\n"
     ]
    }
   ],
   "source": [
    "# Task 11: Tokenize and remove stopwords, punctuation, and perform stemming\n",
    "sentence11 = \"Running through the forest, the fox is faster.\"\n",
    "tokens11 = word_tokenize(sentence11)\n",
    "filtered11 = [porter.stem(word) for word in tokens11 if word.lower() not in stop_words and word.isalnum()]\n",
    "print(\"Task 11:\", filtered11)"
   ]
  },
  {
   "cell_type": "code",
   "execution_count": 14,
   "id": "624edd74",
   "metadata": {},
   "outputs": [
    {
     "name": "stdout",
     "output_type": "stream",
     "text": [
      "Task 12: 4\n"
     ]
    }
   ],
   "source": [
    "# Task 12: Count stopwords in a sentence\n",
    "sentence12 = \"This is an example sentence for counting stopwords.\"\n",
    "tokens12 = word_tokenize(sentence12)\n",
    "stopword_count12 = len([word for word in tokens12 if word.lower() in stop_words])\n",
    "print(\"Task 12:\", stopword_count12)"
   ]
  },
  {
   "cell_type": "code",
   "execution_count": 15,
   "id": "f55a6f39",
   "metadata": {},
   "outputs": [
    {
     "name": "stdout",
     "output_type": "stream",
     "text": [
      "Task 13: ['stem', 'punctuat', 'remov', 'exampl']\n"
     ]
    }
   ],
   "source": [
    "# Task 13: Perform stemming and remove punctuation using RegexTokenizer\n",
    "sentence13 = \"Stemming, punctuation! Removal example.\"\n",
    "tokens13 = regex_tokenizer.tokenize(sentence13)\n",
    "stemmed13 = [porter.stem(word) for word in tokens13 ]\n",
    "print(\"Task 13:\", stemmed13)"
   ]
  },
  {
   "cell_type": "code",
   "execution_count": 16,
   "id": "29d81014",
   "metadata": {},
   "outputs": [
    {
     "name": "stdout",
     "output_type": "stream",
     "text": [
      "Task 14: ['Punctuation', 'removal', 'with', 'regex', 'in', 'NLP']\n"
     ]
    }
   ],
   "source": [
    "# Task 14: Remove punctuation using regex and NLTK\n",
    "sentence14 = \"Punctuation removal with regex in NLP!\"\n",
    "tokens14 = regex_tokenizer.tokenize(sentence14)\n",
    "print(\"Task 14:\", tokens14)"
   ]
  },
  {
   "cell_type": "code",
   "execution_count": 17,
   "id": "9e518306",
   "metadata": {},
   "outputs": [
    {
     "name": "stdout",
     "output_type": "stream",
     "text": [
      "Task 15: ['dog', 'barking', 'loudly']\n"
     ]
    }
   ],
   "source": [
    "# Task 15: Tokenize text into words, remove stopwords, and lemmatize\n",
    "\n",
    "sentence15 = \"The dogs are barking loudly.\"\n",
    "tokens15 = word_tokenize(sentence15)\n",
    "filtered15 = [lemmatizer.lemmatize(word) for word in tokens15 if word.lower() not in stop_words and word.isalnum()]\n",
    "print(\"Task 15:\", filtered15)"
   ]
  },
  {
   "cell_type": "code",
   "execution_count": null,
   "id": "6a68d3bf",
   "metadata": {},
   "outputs": [],
   "source": []
  },
  {
   "cell_type": "code",
   "execution_count": null,
   "id": "4d5c59fe",
   "metadata": {},
   "outputs": [],
   "source": []
  }
 ],
 "metadata": {
  "kernelspec": {
   "display_name": "Python 3 (ipykernel)",
   "language": "python",
   "name": "python3"
  },
  "language_info": {
   "codemirror_mode": {
    "name": "ipython",
    "version": 3
   },
   "file_extension": ".py",
   "mimetype": "text/x-python",
   "name": "python",
   "nbconvert_exporter": "python",
   "pygments_lexer": "ipython3",
   "version": "3.11.5"
  }
 },
 "nbformat": 4,
 "nbformat_minor": 5
}
