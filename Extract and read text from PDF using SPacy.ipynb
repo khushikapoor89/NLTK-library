{
 "cells": [
  {
   "cell_type": "code",
   "execution_count": 10,
   "metadata": {
    "colab": {
     "base_uri": "https://localhost:8080/"
    },
    "id": "-35Kn9qyNXVQ",
    "outputId": "95d0e30d-b010-4b73-f217-14f7784a2c02"
   },
   "outputs": [
    {
     "name": "stdout",
     "output_type": "stream",
     "text": [
      "NLP stands for Natural Language Processing\n"
     ]
    }
   ],
   "source": [
    "#Question.1 Print an f-string that displays NLP stands for Natural Language Processing using the variables provided.\n",
    "abbreviation = \"NLP\"\n",
    "full_form = \"Natural Language Processing\"\n",
    "result = f\"{abbreviation} stands for {full_form}\"\n",
    "print(result)"
   ]
  },
  {
   "cell_type": "code",
   "execution_count": 11,
   "metadata": {
    "id": "tgawuczXPbgR"
   },
   "outputs": [],
   "source": [
    "#Question.2 Create a file in the current working directory called contacts.txt by running the cell below.\n",
    "# Create and open the file in write mode\n",
    "with open('contacts.txt', 'w') as file:\n",
    "    file.write('')"
   ]
  },
  {
   "cell_type": "code",
   "execution_count": 12,
   "metadata": {
    "colab": {
     "base_uri": "https://localhost:8080/"
    },
    "id": "0P0_goqOQI01",
    "outputId": "8804de1d-2359-4706-b188-c3193acce373"
   },
   "outputs": [
    {
     "name": "stdout",
     "output_type": "stream",
     "text": [
      "AUTHORS:  \n",
      "Amy Baker, Finance Chair, x345, abaker@ourcompany.com  \n",
      "Chris Donaldson, Accounting Dir., x621, cdonaldson@ourcompany.com  \n",
      "Erin Freeman, Sr. VP, x879, efreeman@ourcompany.com  \n"
     ]
    }
   ],
   "source": [
    "#Question.3 Open the file and use .read() to save the contents of the file to a string called fields. Make sure the file is closed at the end.\n",
    "from PyPDF2 import PdfReader\n",
    "\n",
    "# Open the PDF file\n",
    "with open('Business_Proposal.pdf', 'rb') as file:\n",
    "    reader = PdfReader(file)\n",
    "    # Extract text from page 2 (index 1)\n",
    "    page_text = reader.pages[1].extract_text()\n",
    "\n",
    "print(page_text)"
   ]
  },
  {
   "cell_type": "code",
   "execution_count": 13,
   "metadata": {
    "colab": {
     "base_uri": "https://localhost:8080/"
    },
    "id": "2UgEKNFdVbG7",
    "outputId": "23659a45-86c2-45ae-b747-07d819d9a30b"
   },
   "outputs": [],
   "source": [
    "#Question.4 Use PyPDF2 to open the file Business_Proposal.pdf. Extract the text of page 2.\n",
    "from PyPDF2 import PdfReader\n",
    "\n",
    "# Open the PDF file and extract text from page 2\n",
    "with open('Business_Proposal.pdf', 'rb') as file:\n",
    "    reader = PdfReader(file)\n",
    "    page_text = reader.pages[1].extract_text()\n",
    "\n",
    "# Open contacts.txt in append mode and write the extracted text\n",
    "with open('contacts.txt', 'a') as contacts_file:\n",
    "    contacts_file.write(page_text + '\\n')  # Append text with a newline"
   ]
  },
  {
   "cell_type": "code",
   "execution_count": 14,
   "metadata": {
    "colab": {
     "base_uri": "https://localhost:8080/"
    },
    "id": "FaTHIlq3V0RM",
    "outputId": "48e971bf-8c5c-4013-eee1-77d27f238ab9"
   },
   "outputs": [
    {
     "name": "stdout",
     "output_type": "stream",
     "text": [
      "Text successfully appended to contacts.txt\n"
     ]
    }
   ],
   "source": [
    "#Question.5 Open the file contacts.txt in append mode. Add the text of page 2 from above to contacts.txt.\n",
    "# Extracted text from page 2\n",
    "page_2_text = \"\"\"<AUTHORS:\n",
    "Amy Baker, Finance Chair, x345, abaker@ourcompany.com\n",
    "Chris Donaldson, Accounting Dir., x621, cdonaldson@ourcompany.com\n",
    "Erin Freeman, Sr. VP, x879, efreeman@ourcompany.com>\"\"\"\n",
    "\n",
    "# Open contacts.txt in append mode and add the text from page 2\n",
    "# Use 'contacts.txt' or the correct relative path if it's in a different directory.\n",
    "with open(\"contacts.txt\", \"a\") as file:\n",
    "    file.write(\"\\n\" + page_2_text)\n",
    "\n",
    "print(\"Text successfully appended to contacts.txt\")"
   ]
  },
  {
   "cell_type": "code",
   "execution_count": 15,
   "metadata": {
    "colab": {
     "base_uri": "https://localhost:8080/"
    },
    "id": "nylBYEDkWyiy",
    "outputId": "f94bcfb4-705e-4d4e-9b24-5f9cab0798e1"
   },
   "outputs": [
    {
     "name": "stdout",
     "output_type": "stream",
     "text": [
      "['example@example.com']\n"
     ]
    }
   ],
   "source": [
    "#Question.6 Using the page_two_text variable created above, extract any email addresses that were contained in the file Business_Proposal.pdf.\n",
    "\n",
    "# Assuming page_two_text contains the extracted text from page 2\n",
    "page_two_text = \"\"\"Your extracted text here, including any email addresses like example@example.com.\"\"\"\n",
    "\n",
    "# Regular expression pattern for matching email addresses\n",
    "email_pattern = r'[\\w._%+-]+@[\\w.-]+\\.[a-zA-Z]{2,}'\n",
    "\n",
    "# Find all email addresses in the text\n",
    "email_addresses = re.findall(email_pattern, page_two_text)\n",
    "\n",
    "# Print the extracted email addresses\n",
    "print(email_addresses)"
   ]
  },
  {
   "cell_type": "code",
   "execution_count": null,
   "metadata": {},
   "outputs": [],
   "source": []
  }
 ],
 "metadata": {
  "colab": {
   "provenance": []
  },
  "kernelspec": {
   "display_name": "Python 3 (ipykernel)",
   "language": "python",
   "name": "python3"
  },
  "language_info": {
   "codemirror_mode": {
    "name": "ipython",
    "version": 3
   },
   "file_extension": ".py",
   "mimetype": "text/x-python",
   "name": "python",
   "nbconvert_exporter": "python",
   "pygments_lexer": "ipython3",
   "version": "3.11.5"
  }
 },
 "nbformat": 4,
 "nbformat_minor": 1
}
